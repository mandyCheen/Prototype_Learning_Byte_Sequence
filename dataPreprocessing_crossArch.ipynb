{
 "cells": [
  {
   "cell_type": "code",
   "execution_count": 2,
   "metadata": {},
   "outputs": [
    {
     "name": "stdout",
     "output_type": "stream",
     "text": [
      "Loading x86_64 dataset\n",
      "Loading i386 dataset\n",
      "Loading arm dataset\n",
      "Loading mips dataset\n"
     ]
    }
   ],
   "source": [
    "import pandas as pd\n",
    "import numpy as np\n",
    "import r2pipe as r2\n",
    "from tqdm import tqdm\n",
    "\n",
    "BYTE_LENGTH = 2000\n",
    "N_GRAM_1 = 2\n",
    "N_GRAM_2 = 4\n",
    "SEED = 7\n",
    "NUM_EXAMPLES = 50\n",
    "\n",
    "# load dataset\n",
    "DATASET_FOLDER = \"/home/mandy900619/data/Malware202403/\"\n",
    "CLUSTER_PATH = \"./cluster_data/\"\n",
    "CPU_ARCH = [\"x86_64\", \"i386\", \"arm\", \"mips\"]\n",
    "DATASET_PATH = f\"./dataset/\"  \n",
    "EMBEDDING_PATH = \"./dataset_embedding/\" \n",
    "ADDITONAL_INFO = \"_rm_dup\"\n",
    "\n",
    "# load dataset\n",
    "dataset = pd.DataFrame()\n",
    "for arch in CPU_ARCH:\n",
    "    print(f\"Loading {arch} dataset\")\n",
    "    temp = pd.read_csv(f\"{DATASET_PATH}malware_original_{arch}_byte_sequence{BYTE_LENGTH}_split{ADDITONAL_INFO}.csv\")\n",
    "    dataset = pd.concat([dataset, temp], axis=0)\n",
    "dataset = dataset.reset_index(drop=True)\n",
    "\n",
    "\n"
   ]
  },
  {
   "cell_type": "code",
   "execution_count": 5,
   "metadata": {},
   "outputs": [
    {
     "name": "stdout",
     "output_type": "stream",
     "text": [
      "CPU\n",
      "ARM                              60283\n",
      "Advanced Micro Devices X86-64    34930\n",
      "MIPS R3000                       31311\n",
      "Intel 80386                      23293\n",
      "Name: count, dtype: int64\n",
      "family\n",
      "mirai          14098\n",
      "gafgyt          7927\n",
      "tsunami          679\n",
      "race              51\n",
      "exploitscan       47\n",
      "xorddos           41\n",
      "sshdoor           33\n",
      "local             32\n",
      "rkit              31\n",
      "sshbrute          30\n",
      "kaiji             28\n",
      "sliver            27\n",
      "backegmm          27\n",
      "dnsamp            27\n",
      "prochider         26\n",
      "pnscan            26\n",
      "meterpreter       26\n",
      "Name: count, dtype: int64\n",
      "family\n",
      "gafgyt          22740\n",
      "mirai            4815\n",
      "tsunami          4635\n",
      "sliver            408\n",
      "camelot           372\n",
      "sshdoor           302\n",
      "dropperl          247\n",
      "xmrig             180\n",
      "rekoobe           165\n",
      "vtflooder         130\n",
      "drtycow           123\n",
      "pnscan             87\n",
      "horsepill          78\n",
      "merlin             77\n",
      "prochider          56\n",
      "revproxy           53\n",
      "aenjaris           49\n",
      "exploitscan        46\n",
      "malsource          42\n",
      "meterpreter        40\n",
      "cleanlog           38\n",
      "hive               33\n",
      "cobaltstrike       33\n",
      "blueshell          31\n",
      "kaiji              25\n",
      "dnsamp             25\n",
      "winnti             23\n",
      "dofloo             16\n",
      "rozena             15\n",
      "mrblack            15\n",
      "chinaz              8\n",
      "ladvix              8\n",
      "ngioweb             6\n",
      "sotdas              4\n",
      "rudedevil           4\n",
      "darktequila         1\n",
      "Name: count, dtype: int64\n",
      "family\n",
      "mirai       46116\n",
      "gafgyt      13104\n",
      "tsunami       953\n",
      "kaiji          34\n",
      "triada         28\n",
      "dofloo         17\n",
      "sidewalk       15\n",
      "ddostf         11\n",
      "dnsamp          5\n",
      "Name: count, dtype: int64\n",
      "family\n",
      "mirai        22492\n",
      "gafgyt        8023\n",
      "tsunami        719\n",
      "kaiji           33\n",
      "vpnfilter       22\n",
      "specter          9\n",
      "dofloo           7\n",
      "dnsamp           4\n",
      "ddostf           2\n",
      "Name: count, dtype: int64\n"
     ]
    }
   ],
   "source": [
    "print(dataset.value_counts(\"CPU\")) \n",
    "i386 = dataset[dataset[\"CPU\"] == \"Intel 80386\"]\n",
    "x86_64 = dataset[dataset[\"CPU\"] == \"Advanced Micro Devices X86-64\"]\n",
    "arm = dataset[dataset[\"CPU\"] == \"ARM\"]\n",
    "mips = dataset[dataset[\"CPU\"] == \"MIPS R3000\"]  \n",
    "\n",
    "print(i386.value_counts(\"family\")[i386.value_counts(\"family\")>25])\n",
    "print(x86_64.value_counts(\"family\"))\n",
    "print(arm.value_counts(\"family\"))\n",
    "print(mips.value_counts(\"family\"))\n"
   ]
  },
  {
   "cell_type": "code",
   "execution_count": 68,
   "metadata": {},
   "outputs": [
    {
     "name": "stdout",
     "output_type": "stream",
     "text": [
      "family\n",
      "mirai          87521\n",
      "gafgyt         51794\n",
      "tsunami         6986\n",
      "sliver           435\n",
      "camelot          372\n",
      "sshdoor          335\n",
      "xmrig            180\n",
      "rekoobe          165\n",
      "kaiji            120\n",
      "exploitscan       93\n",
      "meterpreter       66\n",
      "race              51\n",
      "xorddos           41\n",
      "triada            28\n",
      "Name: count, dtype: int64\n"
     ]
    },
    {
     "name": "stderr",
     "output_type": "stream",
     "text": [
      "/tmp/ipykernel_1531054/1904907414.py:18: DeprecationWarning: DataFrameGroupBy.apply operated on the grouping columns. This behavior is deprecated, and in a future version of pandas the grouping columns will be excluded from the operation. Either pass `include_groups=False` to exclude the groupings or explicitly select the grouping columns after groupby to silence this warning.\n",
      "  i386FamilyGroup = i386Family.groupby(\"family\", group_keys=False).apply(sample_or_all, n=NUM_EXAMPLES, seed=SEED)\n",
      "/tmp/ipykernel_1531054/1904907414.py:19: DeprecationWarning: DataFrameGroupBy.apply operated on the grouping columns. This behavior is deprecated, and in a future version of pandas the grouping columns will be excluded from the operation. Either pass `include_groups=False` to exclude the groupings or explicitly select the grouping columns after groupby to silence this warning.\n",
      "  x86_64FamilyGroup = x86_64Family.groupby(\"family\", group_keys=False).apply(sample_or_all, n=NUM_EXAMPLES, seed=SEED)\n",
      "/tmp/ipykernel_1531054/1904907414.py:20: DeprecationWarning: DataFrameGroupBy.apply operated on the grouping columns. This behavior is deprecated, and in a future version of pandas the grouping columns will be excluded from the operation. Either pass `include_groups=False` to exclude the groupings or explicitly select the grouping columns after groupby to silence this warning.\n",
      "  armFamilyGroup = armFamily.groupby(\"family\", group_keys=False).apply(sample_or_all, n=NUM_EXAMPLES, seed=SEED)\n",
      "/tmp/ipykernel_1531054/1904907414.py:21: DeprecationWarning: DataFrameGroupBy.apply operated on the grouping columns. This behavior is deprecated, and in a future version of pandas the grouping columns will be excluded from the operation. Either pass `include_groups=False` to exclude the groupings or explicitly select the grouping columns after groupby to silence this warning.\n",
      "  mipsFamilyGroup = mipsFamily.groupby(\"family\", group_keys=False).apply(sample_or_all, n=NUM_EXAMPLES, seed=SEED)\n"
     ]
    }
   ],
   "source": [
    "select_family = [\"gafgyt\", \"mirai\", \"tsunami\", \"sliver\", \"camelot\", \"sshdoor\", \"xmrig\", \"rekoobe\",\n",
    "    \"race\", \"exploitscan\", \"xorddos\", \"kaiji\", \"meterpreter\", \"triada\"]\n",
    "datasetFamily = dataset[dataset[\"family\"].isin(select_family)]\n",
    "print(datasetFamily.value_counts(\"family\"))\n",
    "\n",
    "i386Family = datasetFamily[datasetFamily[\"CPU\"] == \"Intel 80386\"]\n",
    "x86_64Family = datasetFamily[datasetFamily[\"CPU\"] == \"Advanced Micro Devices X86-64\"]\n",
    "armFamily = datasetFamily[datasetFamily[\"CPU\"] == \"ARM\"]\n",
    "mipsFamily = datasetFamily[datasetFamily[\"CPU\"] == \"MIPS R3000\"]\n",
    "\n",
    "\n",
    "def sample_or_all(group, n, seed):\n",
    "    if len(group) <= n:\n",
    "        return group\n",
    "    return group.sample(n=n, random_state=seed)\n",
    "\n",
    "\n",
    "i386FamilyGroup = i386Family.groupby(\"family\", group_keys=False).apply(sample_or_all, n=NUM_EXAMPLES, seed=SEED)\n",
    "x86_64FamilyGroup = x86_64Family.groupby(\"family\", group_keys=False).apply(sample_or_all, n=NUM_EXAMPLES, seed=SEED)\n",
    "armFamilyGroup = armFamily.groupby(\"family\", group_keys=False).apply(sample_or_all, n=NUM_EXAMPLES, seed=SEED)\n",
    "mipsFamilyGroup = mipsFamily.groupby(\"family\", group_keys=False).apply(sample_or_all, n=NUM_EXAMPLES, seed=SEED)"
   ]
  },
  {
   "cell_type": "code",
   "execution_count": 69,
   "metadata": {},
   "outputs": [
    {
     "name": "stdout",
     "output_type": "stream",
     "text": [
      "family\n",
      "gafgyt         50\n",
      "race           50\n",
      "tsunami        50\n",
      "mirai          50\n",
      "exploitscan    47\n",
      "xorddos        41\n",
      "sshdoor        33\n",
      "kaiji          28\n",
      "sliver         27\n",
      "meterpreter    26\n",
      "Name: count, dtype: int64\n",
      "family\n",
      "camelot        50\n",
      "gafgyt         50\n",
      "rekoobe        50\n",
      "tsunami        50\n",
      "mirai          50\n",
      "sshdoor        50\n",
      "sliver         50\n",
      "xmrig          50\n",
      "exploitscan    46\n",
      "meterpreter    40\n",
      "kaiji          25\n",
      "Name: count, dtype: int64\n",
      "family\n",
      "gafgyt     50\n",
      "mirai      50\n",
      "tsunami    50\n",
      "kaiji      34\n",
      "triada     28\n",
      "Name: count, dtype: int64\n",
      "family\n",
      "gafgyt     50\n",
      "mirai      50\n",
      "tsunami    50\n",
      "kaiji      33\n",
      "Name: count, dtype: int64\n"
     ]
    }
   ],
   "source": [
    "print(i386FamilyGroup.value_counts(\"family\"))\n",
    "print(x86_64FamilyGroup.value_counts(\"family\"))\n",
    "print(armFamilyGroup.value_counts(\"family\"))\n",
    "print(mipsFamilyGroup.value_counts(\"family\"))"
   ]
  },
  {
   "cell_type": "code",
   "execution_count": 70,
   "metadata": {},
   "outputs": [
    {
     "name": "stdout",
     "output_type": "stream",
     "text": [
      "402\n",
      "511\n",
      "212\n",
      "183\n"
     ]
    }
   ],
   "source": [
    "print(len(i386FamilyGroup))\n",
    "print(len(x86_64FamilyGroup))\n",
    "print(len(armFamilyGroup))\n",
    "print(len(mipsFamilyGroup))"
   ]
  },
  {
   "cell_type": "code",
   "execution_count": 71,
   "metadata": {},
   "outputs": [],
   "source": [
    "i386Train = i386FamilyGroup.groupby('family').sample(frac=0.6, random_state=SEED)\n",
    "i386Test = i386FamilyGroup.drop(i386Train.index)\n",
    "x86_64Train = x86_64FamilyGroup.groupby('family').sample(frac=0.6, random_state=SEED)\n",
    "x86_64Test = x86_64FamilyGroup.drop(x86_64Train.index)\n",
    "armTrain = armFamilyGroup.groupby('family').sample(frac=0.6, random_state=SEED)\n",
    "armTest = armFamilyGroup.drop(armTrain.index)\n",
    "mipsTrain = mipsFamilyGroup.groupby('family').sample(frac=0.6, random_state=SEED)\n",
    "mipsTest = mipsFamilyGroup.drop(mipsTrain.index)"
   ]
  },
  {
   "cell_type": "code",
   "execution_count": 74,
   "metadata": {},
   "outputs": [],
   "source": [
    "datasetTrain = pd.concat([i386Train, x86_64Train, armTrain, mipsTrain], axis=0)\n",
    "datasetTrain = datasetTrain.sort_values(by=['family'])\n",
    "datasetTest = pd.concat([i386Test, x86_64Test, armTest, mipsTest], axis=0)\n",
    "datasetTest = datasetTest.sort_values(by=['family'])\n",
    "byteSeqenceTrain = datasetTrain['byte_sequence'].values\n",
    "byteSeqenceTest = datasetTest['byte_sequence'].values\n",
    "y_train = datasetTrain['family'].values\n",
    "y_test = datasetTest['family'].values"
   ]
  },
  {
   "cell_type": "code",
   "execution_count": 75,
   "metadata": {},
   "outputs": [],
   "source": [
    "# add column train/test to dataset\n",
    "datasetTrain[\"train_test\"] = \"train\"\n",
    "datasetTest[\"train_test\"] = \"test\""
   ]
  },
  {
   "cell_type": "code",
   "execution_count": 76,
   "metadata": {},
   "outputs": [
    {
     "name": "stdout",
     "output_type": "stream",
     "text": [
      "family\n",
      "mirai          120\n",
      "gafgyt         120\n",
      "tsunami        120\n",
      "kaiji           72\n",
      "exploitscan     56\n",
      "sshdoor         50\n",
      "sliver          46\n",
      "meterpreter     40\n",
      "camelot         30\n",
      "rekoobe         30\n",
      "race            30\n",
      "xmrig           30\n",
      "xorddos         25\n",
      "triada          17\n",
      "Name: count, dtype: int64\n",
      "family\n",
      "mirai          80\n",
      "gafgyt         80\n",
      "tsunami        80\n",
      "kaiji          48\n",
      "exploitscan    37\n",
      "sshdoor        33\n",
      "sliver         31\n",
      "meterpreter    26\n",
      "camelot        20\n",
      "rekoobe        20\n",
      "race           20\n",
      "xmrig          20\n",
      "xorddos        16\n",
      "triada         11\n",
      "Name: count, dtype: int64\n"
     ]
    }
   ],
   "source": [
    "datasetOut = pd.concat([datasetTrain, datasetTest], axis=0)\n",
    "# datasetOut.to_csv(f\"{DATASET_PATH}malware_original_crossArch_byte_sequence{BYTE_LENGTH}_split{ADDITONAL_INFO}_train_test.csv\", index=False)\n",
    "print(datasetTrain.value_counts(\"family\"))\n",
    "print(datasetTest.value_counts(\"family\"))"
   ]
  },
  {
   "cell_type": "code",
   "execution_count": 77,
   "metadata": {},
   "outputs": [
    {
     "name": "stdout",
     "output_type": "stream",
     "text": [
      "(786,)\n",
      "(522,)\n",
      "(786,)\n",
      "(522,)\n"
     ]
    }
   ],
   "source": [
    "print(byteSeqenceTrain.shape)\n",
    "print(byteSeqenceTest.shape)\n",
    "print(y_train.shape)\n",
    "print(y_test.shape)"
   ]
  },
  {
   "cell_type": "code",
   "execution_count": 78,
   "metadata": {},
   "outputs": [],
   "source": [
    "\n",
    "\n",
    "# convert y family to number\n",
    "from sklearn.preprocessing import LabelEncoder\n",
    "le = LabelEncoder()\n",
    "list_ = list(y_train) + list(y_test)\n",
    "le.fit(list_)\n",
    "y_train = le.fit_transform(y_train)\n",
    "y_test = le.fit_transform(y_test)\n",
    "\n"
   ]
  },
  {
   "cell_type": "code",
   "execution_count": 79,
   "metadata": {},
   "outputs": [],
   "source": [
    "# extract tf-idf features\n",
    "from sklearn.feature_extraction.text import TfidfVectorizer\n",
    "# 4-grams\n",
    "tfidf_vec = TfidfVectorizer(analyzer='word', ngram_range=(N_GRAM_1, N_GRAM_2), max_features=500) # , max_features=1000\n",
    "tfidf_matrix_train = tfidf_vec.fit_transform(byteSeqenceTrain)\n",
    "tfidf_matrix_test = tfidf_vec.transform(byteSeqenceTest)\n",
    "\n",
    "tfidf_matrix_train = tfidf_matrix_train.toarray()\n",
    "tfidf_matrix_test = tfidf_matrix_test.toarray()\n",
    "\n",
    "\n",
    "label_mapping = {index: label for index, label in enumerate(le.classes_)}"
   ]
  },
  {
   "cell_type": "code",
   "execution_count": 80,
   "metadata": {},
   "outputs": [
    {
     "name": "stdout",
     "output_type": "stream",
     "text": [
      "Training set shape: (786, 1000)\n",
      "Testing set shape: (522, 1000)\n",
      "Label mapping: {0: 'camelot', 1: 'exploitscan', 2: 'gafgyt', 3: 'kaiji', 4: 'meterpreter', 5: 'mirai', 6: 'race', 7: 'rekoobe', 8: 'sliver', 9: 'sshdoor', 10: 'triada', 11: 'tsunami', 12: 'xmrig', 13: 'xorddos'}\n"
     ]
    }
   ],
   "source": [
    "print(f\"Training set shape: {tfidf_matrix_train.shape}\")\n",
    "print(f\"Testing set shape: {tfidf_matrix_test.shape}\")\n",
    "print(f\"Label mapping: {label_mapping}\")"
   ]
  },
  {
   "cell_type": "code",
   "execution_count": 81,
   "metadata": {},
   "outputs": [],
   "source": [
    "import pickle\n",
    "\n",
    "with open(f\"{EMBEDDING_PATH}crossArch_label_mapping{ADDITONAL_INFO}.pickle\", 'wb') as f:\n",
    "    pickle.dump(label_mapping, f)\n",
    "    f.close()\n",
    "with open(f\"{EMBEDDING_PATH}crossArch_tfidf_vec_train{ADDITONAL_INFO}.pickle\", 'wb') as f:\n",
    "    pickle.dump(tfidf_matrix_train, f)\n",
    "    f.close()\n",
    "with open(f\"{EMBEDDING_PATH}crossArch_tfidf_vec_test{ADDITONAL_INFO}.pickle\", 'wb') as f:\n",
    "    pickle.dump(tfidf_matrix_test, f)\n",
    "    f.close()\n",
    "with open(f\"{EMBEDDING_PATH}crossArch_y_train{ADDITONAL_INFO}.pickle\", 'wb') as f:\n",
    "    pickle.dump(y_train, f)\n",
    "    f.close()\n",
    "with open(f\"{EMBEDDING_PATH}crossArch_y_test{ADDITONAL_INFO}.pickle\", 'wb') as f:\n",
    "    pickle.dump(y_test, f)\n",
    "    f.close()"
   ]
  },
  {
   "cell_type": "code",
   "execution_count": 82,
   "metadata": {},
   "outputs": [],
   "source": [
    "# Format is a vector one line, each dimension value split by blank space\n",
    "# cluster preprocessing\n",
    "for key in label_mapping:\n",
    "    outputPathTrain = f\"{CLUSTER_PATH}crossArch_{label_mapping[key]}_train{ADDITONAL_INFO}.txt\"\n",
    "    # outputPathTest = f\"{CLUSTER_PATH}{CPU_ARCH}_{label_mapping[key]}_test.txt\"\n",
    "    with open(outputPathTrain, 'w') as f:\n",
    "        for i in range(len(tfidf_matrix_train)):\n",
    "            if y_train[i] == key:\n",
    "                f.write('\\t'.join(map(str, tfidf_matrix_train[i])) + \"\\n\")\n",
    "    f.close()\n",
    "    # with open(outputPathTest, 'w') as f:\n",
    "    #     for i in range(len(tfidf_matrix_test)):\n",
    "    #         if y_test[i] == key:\n",
    "    #             f.write('\\t'.join(map(str, tfidf_matrix_test[i])) + \"\\n\")"
   ]
  }
 ],
 "metadata": {
  "kernelspec": {
   "display_name": "byteSequence",
   "language": "python",
   "name": "python3"
  },
  "language_info": {
   "codemirror_mode": {
    "name": "ipython",
    "version": 3
   },
   "file_extension": ".py",
   "mimetype": "text/x-python",
   "name": "python",
   "nbconvert_exporter": "python",
   "pygments_lexer": "ipython3",
   "version": "3.11.9"
  }
 },
 "nbformat": 4,
 "nbformat_minor": 2
}
